{
 "cells": [
  {
   "cell_type": "markdown",
   "metadata": {},
   "source": [
    "# Natural Gas Consumption Forecasting using Sarimax Model"
   ]
  },
  {
   "cell_type": "markdown",
   "metadata": {},
   "source": [
    " _Mine Melodi Çalışkan, Software Developer, Vitus Commodities, December 2017_"
   ]
  },
  {
   "cell_type": "markdown",
   "metadata": {},
   "source": [
    "## Introduction\n",
    "In this project Sarimax model in statsmodels package is used. The model is applied to LDZ consumption to make forecasts using next 14 day weather forecasts and derived features. Demand data is taken as Volume and in units as  standard cubic meter.\n"
   ]
  },
  {
   "cell_type": "markdown",
   "metadata": {},
   "source": [
    "\n",
    "\n",
    "\n",
    "### Data\n",
    "\n",
    "_Local Distribution Zone_ (LDZ) demand refers to the total amount of gas used by gas consumers connected to the gas distribution networks. This includes residential demand, and most commercial and industrial demand. There are thirteen zones in the UK managed by four distribution network operators.\n",
    "\n",
    "\n",
    "![zones](zones1.png)\n"
   ]
  },
  {
   "cell_type": "markdown",
   "metadata": {},
   "source": [
    "Within each LDZ, each meter point or offtake from the network is categorised by how much gas it consumes, known as its load band. Load bands can be split into two discrete categories – _Non daily metered_ (NDM) and _daily metered_ (DM). Non daily metered load bands are offtakes where the meter is not read every day, such as residential properties, while some large industrial premises with much higher demand have their meters read daily.\n",
    "\n",
    "\n",
    "Variability in day to day LDZ connected NDM demand mainly driven by weather. DM LDZ demand tend to be less variable.\n",
    " \n",
    "![ldz](ldz.png)"
   ]
  },
  {
   "cell_type": "markdown",
   "metadata": {},
   "source": [
    "### Model\n",
    "\n",
    "Sarimax is an Arima model with additional explanatory variables and seasonality. Arima stands for Autoregressive Integrated Moving Average. Auto Regressive (AR) refers as lags of the differenced series, Moving Average (MA) is lags of errors and I represents the number of difference used to make the time series stationary. Seasonality in a time series is a regular pattern of changes that repeats over S time periods, where S defines the number of time periods until the pattern repeats again.\n",
    "\n",
    "\n"
   ]
  },
  {
   "cell_type": "markdown",
   "metadata": {},
   "source": [
    "\n",
    "\n",
    "**Experiment Setup & Configuration**\n",
    "\n",
    "* Training data starts from 2008-11-08\n",
    "* Test set consists of WSI weather forecasts and they stars from 2017-09-18\n",
    "* Missing values in features for train & test sets are filled by rolling means of previous 14 days.\n"
   ]
  },
  {
   "cell_type": "markdown",
   "metadata": {},
   "source": [
    "\n",
    "Following features are being used:\n",
    "\n",
    "\n",
    "**Time Indices** \n",
    "\n",
    "\n",
    "   * Day of Week (DOW)\n",
    "   * Holiday (isHoliday)\n"
   ]
  },
  {
   "cell_type": "markdown",
   "metadata": {},
   "source": [
    "\n",
    "\n",
    "**Weather Indices**\n",
    "\n",
    "\n",
    "Weather Indices correspond to daily average values. 4 features that are derived from temperature&population density and they are used together with their previous day & average of last 3 days' values. Additional indices are related with sun properties which requires representetive area coordinates and for this purpose Ashbourne, UK is chosen after correlation analysis between total gas consumption and consumption by districts.\n",
    "![zones](zonesvstotal.png)"
   ]
  },
  {
   "cell_type": "markdown",
   "metadata": {},
   "source": [
    "\n",
    "Following graphs shows the distribution of the interactions of each pair of attributes.\n",
    "\n",
    "\n",
    "__Model Features__\n",
    "\n",
    "\n",
    "![correlation1](correlation1.png)\n",
    "![correlation2](corr2.png)"
   ]
  },
  {
   "cell_type": "markdown",
   "metadata": {},
   "source": [
    "\n",
    "## Parameters\n"
   ]
  },
  {
   "cell_type": "markdown",
   "metadata": {},
   "source": [
    "\n",
    "\n",
    "\n",
    "* **Order**: The (p,d,q) order of the model for the number of AR parameters, differences, and MA parameters. p is the auto-regressive part, d is the integrated part and q is the moving average part of the model.\n",
    "\n",
    "       \n",
    "\n"
   ]
  },
  {
   "cell_type": "markdown",
   "metadata": {},
   "source": [
    "\n",
    "* **Seasonal Order**: The (P,D,Q,s) order of the seasonal component of the model for the AR parameters, differences, MA parameters, and periodicity. Here, while (p, d, q) are the non-seasonal parameters described above, (P, D, Q) follow the same definition but are applied to the seasonal component of the time series. The term s is the periodicity of the time series (4 for quarterly periods, 12 for yearly periods, etc.).\n",
    "\n",
    "\n",
    "       \n",
    "\n"
   ]
  },
  {
   "cell_type": "markdown",
   "metadata": {},
   "source": [
    "\n",
    "\n",
    "## Result Evaluation\n",
    "\n",
    "\n",
    "Note: Predictions are for the next 14 days\n",
    "\n",
    "\n",
    "if model would have runned on **2016-12-31** in mscm:\n",
    "![janerr](janerr.png)\n",
    "* Average Consumption: 229.41 mscm\n",
    "* Average Prediction: 220.62 mscm\n",
    "* MAPE: %4.1\n",
    "* Next day absolute error: 7.41 mscm\n",
    "* First week absolute errors: 10.56 mscm\n",
    "* Average absolute errors for all predictions: 9.8 mscm\n",
    "\n",
    "\n",
    "\n",
    "if model would have runned on **2017-05-31**:\n",
    "![juneerr](juneerr.png)\n",
    "* Average Consumption: 72.42 mscm\n",
    "* Average Prediction: 67.56 mscm\n",
    "* MAPE: %8.6\n",
    "* Next day absolute error: 1.02 mscm\n",
    "* First week absolute errors: 2.68 mscm\n",
    "* Average absolute errors for all predictions: 6.14 mscm\n",
    "\n",
    "if model would have runned at **2017-08-15**:\n",
    "![augeerr](augeerr.png)\n",
    "* Average Consumption: 61.51 mscm\n",
    "* Average Prediction: 65.55 mscm\n",
    "* MAPE: %6.1\n",
    "* Next day absolute error: 4.77 mscm\n",
    "* First week absolute errors: 3.16 mscm\n",
    "* Average absolute errors for all predictions: 4.04 mscm\n",
    "\n",
    "\n",
    "if model would have runned at **2017-10-31**:\n",
    "![noverr](noverr.png)\n",
    "* Average Consumption: 173.34 mscm\n",
    "* Average Prediction: 170.71 mscm\n",
    "* MAPE: %2.6\n",
    "* Next day absolute error: 4.41 mscm\n",
    "* First week absolute errors: 5.01 mscm\n",
    "* Average absolute errors for all predictions: 4.51 mscm\n",
    "* MAPE for WSI HDD forecasts: %11.2\n",
    "* MAPE for WSI Apparent Temperature forecasts: %127.63\n",
    "\n",
    "\n",
    "\n"
   ]
  },
  {
   "cell_type": "markdown",
   "metadata": {},
   "source": [
    "\n",
    "\n",
    "\n",
    "\n",
    "**2017 Monthly averages of absolute errors for the day ahead forecasts**\n",
    "  * January: 5.98 mscm\n",
    "  * February: 5.43 mscm\n",
    "  * March: 4.70 mscm\n",
    "  * April: 4.29 mscm\n",
    "  * May: 3.81 mscm\n",
    "  * June: 2.89 mscm\n",
    "  * July: 2.86 mscm\n",
    "  * August: 2.93 mscm\n",
    "  * September: 3.04 mscm\n",
    "  * October: 3.33 mscm\n",
    "  * November: 4.13 mscm"
   ]
  },
  {
   "cell_type": "markdown",
   "metadata": {},
   "source": [
    "It is expected the forecast errors to be _normally distributed_ around a zero mean. Following monthly **residual density plots** show residual distributions are close to normality. **Bar plots** show residuals with respect to _day of weeks_. Here numbers on the x-axis 0 to 6 corresponds to day of weeks from monday to sunday. . It follows with **scatter plots of residuals** and _temperature index_ including the regression line and confidence interval bands."
   ]
  },
  {
   "cell_type": "markdown",
   "metadata": {},
   "source": [
    "\n",
    "![residualsdensity](residualsdensity.png)\n",
    "![mayjunjulyaugdens](mayjunjulyaugdens.png)\n",
    "![denssepoctnov](denssepoctnov.png)\n",
    "\n",
    "![dowjanfebmarapr](dowjanfebmarapr.png)\n",
    "![dowmayjunejulyaug](dowmayjunejulyaug.png)\n",
    "![dow1sepoctnov](dow1sepoctnov.png)\n",
    "![tempresscatterJan](tempresscatterJan.png)\n",
    "\n",
    "![tempresscatterFeb](tempresscatterFeb.png)\n",
    "\n",
    "![tempresscatterMar](tempresscatterMar.png)\n",
    "\n",
    "![tempresscatterApr](tempresscatterApr.png)\n",
    "\n",
    "![tempresscatterJune](tempresscatterJune.png)\n",
    "\n",
    "![tempresscatterJuly](tempresscatterJuly.png)\n",
    "\n",
    "![tempresscatterAug](tempresscatterAug.png)\n"
   ]
  },
  {
   "cell_type": "markdown",
   "metadata": {
    "collapsed": true
   },
   "source": [
    "## Possible Improvements of the Model\n",
    "\n",
    "\n",
    "\n",
    "* To reduce _skewness_ a transformation of the raw data before modeling might be useful.\n",
    "\n",
    "\n",
    "    * For right skewness:  Taking roots or logarithms\n",
    "    * For left skewness: Taking squares or cubes \n",
    "\n",
    "\n",
    "* When there is a _bumpy tail_ we can check for outliers and then approximation by step functions can be applied to selected locations.\n",
    "* Adding the mean residual error from training step to each forecast made is an another method might be worth exploring to get _bias-correct_ predictions."
   ]
  },
  {
   "cell_type": "markdown",
   "metadata": {
    "collapsed": true
   },
   "source": [
    "## Appendix"
   ]
  },
  {
   "cell_type": "markdown",
   "metadata": {},
   "source": [
    "\n",
    "\n",
    "**Autoregressive (AR) Models**\n",
    "\n",
    "Definition: AR(p) model is a linear generative model based\n",
    "on the th order Markov assumption:\n",
    "\n",
    "\n",
    "\n",
    "$Y_t=\\sum{a_i Y_{t-i}} + \\epsilon_t$\n",
    "\n",
    "\n",
    "\n",
    "where\n",
    "\n",
    "\n",
    "\n",
    "• $\\epsilon_t$ s are zero mean uncorrelated random variables with\n",
    "variance $\\sigma$.\n",
    "\n",
    "\n",
    "• $a_1, a_2, ... , a_p $are autoregressive coefficients.\n",
    "\n",
    "\n",
    "• $ Y_t $is observed stochastic process. \n",
    "\n",
    "\n",
    "**Moving Averages (MA)**\n",
    "\n",
    "\n",
    "Definition: MA(p) model is a linear generative model for\n",
    "the noise term based on the qth order Markov assumption:\n",
    "\n",
    "\n",
    "$Y_t = \\epsilon_t + \\sum{b_j \\epsilon_{t-j}}$\n",
    "\n",
    "\n",
    "where\n",
    "\n",
    "\n",
    "• $b_1, b_2 , ..., b_q $are moving average coefficients.\n",
    "\n",
    "\n",
    "**ARMA model**\n",
    "\n",
    "Definition: ARMA(p,q) model is a generative linear model\n",
    "that combines AR(p) and MA(q) models: \n",
    "\n",
    "\n",
    "$Y_t=\\sum{a_i Y_{t-i}} + \\epsilon_t + \\sum{b_j \\epsilon_{t-j}}$\n",
    "\n",
    "\n",
    "**Lag Operator**\n",
    "Lag operator $\\mathbb{L}$ is defined by $\\mathbb{L} Y_t= Y_{t-1}$\n",
    "ARMA model in terms of the lag operator:\n",
    "\n",
    "\n",
    " $(1- \\sum a_i \\mathbb{L}^{i}) Y_t= (1 + \\sum{b_j \\mathbb{L}^{j}}) \\epsilon_t$\n",
    "\n",
    "\n",
    "**ARIMA Model**\n",
    "\n",
    "* Non-stationary processes can be modeled using processes\n",
    "whose characteristic polynomial has unit roots.\n",
    "\n",
    "* Characteristic polynomial with unit roots can be factored:\n",
    "\n",
    "$P(z)=R(z)(1-z)^D$\n",
    "\n",
    "\n",
    "where R(z) has no unit roots.\n",
    "\n",
    "\n",
    "Definition: ARIMA(p,D,q) model is an ARMA(p,q) model\n",
    "for $(1-\\mathbb{L})^D Y_t$ : \n",
    "\n",
    "\n",
    "$(1- \\sum a_i \\mathbb{L}^{i})(1-\\mathbb{L})^D  Y_t = (1 + \\sum{b_j \\mathbb{L}^{j}}) \\epsilon_t$\n",
    "\n",
    "\n"
   ]
  },
  {
   "cell_type": "markdown",
   "metadata": {
    "collapsed": true
   },
   "source": [
    "**Resources**\n",
    "\n",
    "\n",
    "[1] Vitaly Kuznetsov, Mehryar Mohri, \"Theory and Algorithms for Forecasting Non-Stationary Time Series\" , Google Research\n",
    "\n",
    " \n",
    "\n",
    "\n",
    "[2] Jason Brownlee, \"Machine Learning Mastery\" ,  \n",
    " machinelearningmastery.com\n",
    "\n",
    "[3] \"Gas Demand Forecasting Methodology 2016 National Grid\""
   ]
  }
 ],
 "metadata": {
  "kernelspec": {
   "display_name": "Python 3",
   "language": "python",
   "name": "python3"
  },
  "language_info": {
   "codemirror_mode": {
    "name": "ipython",
    "version": 3
   },
   "file_extension": ".py",
   "mimetype": "text/x-python",
   "name": "python",
   "nbconvert_exporter": "python",
   "pygments_lexer": "ipython3",
   "version": "3.5.3"
  }
 },
 "nbformat": 4,
 "nbformat_minor": 2
}
